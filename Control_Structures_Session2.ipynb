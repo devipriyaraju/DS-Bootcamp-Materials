{
  "cells": [
    {
      "cell_type": "markdown",
      "metadata": {
        "id": "H6rkHlywd3dv"
      },
      "source": [
        "# Python Syntax Essentials"
      ]
    },
    {
      "cell_type": "markdown",
      "metadata": {
        "id": "Hygs3qYed6tx"
      },
      "source": [
        "1. Python is known for its readability and uncluttered visual layout.\n",
        "2. Code blocks are defined by their indentation level.\n",
        "3. Statements that expect an indentation level end with a colon (:), such as if, for, while, and def.\n",
        "4. Python is dynamically typed and garbage-collected."
      ]
    },
    {
      "cell_type": "markdown",
      "metadata": {
        "id": "Lf6AhhZ0gGdG"
      },
      "source": [
        "#Control Structures"
      ]
    },
    {
      "cell_type": "markdown",
      "metadata": {
        "id": "vJGXcv60gLy0"
      },
      "source": [
        "##Conditional Statements (if, elif, else)"
      ]
    },
    {
      "cell_type": "markdown",
      "metadata": {
        "id": "fITpwDy4gOvd"
      },
      "source": [
        "Conditional statements are used for decision-making operations.\n",
        "\n",
        "1. if statement is used to test a condition.\n",
        "2. elif (else if) is used to add more conditions to the test.\n",
        "3. else provides an alternate block of instructions if all conditions are False."
      ]
    },
    {
      "cell_type": "code",
      "execution_count": null,
      "metadata": {
        "colab": {
          "base_uri": "https://localhost:8080/"
        },
        "id": "agIKN8DhgNww",
        "outputId": "c3425043-168f-48aa-a2b6-6dab06849e8e"
      },
      "outputs": [
        {
          "output_type": "stream",
          "name": "stdout",
          "text": [
            "Child\n"
          ]
        }
      ],
      "source": [
        "# Conditional Statements\n",
        "age = 10\n",
        "\n",
        "if age >= 18:\n",
        "    print(\"Adult\")\n",
        "elif age >= 13:\n",
        "    print(\"Teenager\")\n",
        "else:\n",
        "    print(\"Child\")\n"
      ]
    },
    {
      "cell_type": "markdown",
      "source": [
        "####Explanation\n",
        "\n",
        "In this code snippet, we're utilizing Python's conditional statements (`if`, `elif`, `else`) to categorize a person's life stage based on their age. The variable `age` is set to `10`, and we use this value to determine the life stage category.\n",
        "\n",
        "Here's a step-by-step breakdown of the code:\n",
        "\n",
        "1. **Variable Initialization**:\n",
        "   - `age = 10`: We start by initializing the variable `age` with a value of `10`. This represents the age of a person for which we want to determine the life stage.\n",
        "\n",
        "2. **First Conditional Check - `if` Statement**:\n",
        "   - `if age >= 18:`: This line checks whether the value of `age` is greater than or equal to `18`.\n",
        "   - If this condition is `True`, the code inside this block will execute, and `\"Adult\"` will be printed.\n",
        "   - In our case, since `age` is `10`, this condition is `False`, so we move to the next conditional statement.\n",
        "\n",
        "3. **Second Conditional Check - `elif` (else if) Statement**:\n",
        "   - `elif age >= 13:`: This line is a subsequent condition that checks if `age` is greater than or equal to `13`.\n",
        "   - If the condition is `True`, the code inside this block will execute, printing `\"Teenager\"`.\n",
        "   - However, for `age = 10`, this condition is also `False`, so we again move to the next block.\n",
        "\n",
        "4. **Final Condition - `else` Statement**:\n",
        "   - `else:`: This is the final part of our conditional structure. It does not have a condition; instead, it catches any cases not caught by the preceding `if` and `elif` statements.\n",
        "   - Since the `age` is neither `18` or older nor `13` or older, this `else` block is executed, printing `\"Child\"`.\n",
        "\n",
        "In summary, the code categorizes a person with an age of `10` as a `\"Child\"`. The structure of `if-elif-else` is a common pattern in Python for branching execution based on the value of variables. This pattern allows for clear and concise categorization based on numerical or other types of conditions.\n"
      ],
      "metadata": {
        "id": "9WvdOlLtS3AF"
      }
    },
    {
      "cell_type": "code",
      "source": [
        "age = 1\n",
        "\n",
        "if  age >= 18:\n",
        "    print(\"Adult\")\n",
        "\n",
        "elif 1<= age <=3:\n",
        "    print(\"baby\")\n",
        "\n",
        "elif age >= 13:\n",
        "    print(\"Teenager\")\n",
        "else:\n",
        "    print(\"Child\")"
      ],
      "metadata": {
        "colab": {
          "base_uri": "https://localhost:8080/"
        },
        "id": "67F3IuRYX1A8",
        "outputId": "d5b53c7f-c2c8-4ae2-ce67-b0b4360d0e50"
      },
      "execution_count": null,
      "outputs": [
        {
          "output_type": "stream",
          "name": "stdout",
          "text": [
            "Child\n"
          ]
        }
      ]
    },
    {
      "cell_type": "markdown",
      "source": [
        "#### Explanation\n",
        "\n",
        "In this code snippet, we use Python's conditional statements (`if`, `elif`, `else`) to categorize a person's life stage based on their age. We have set the `age` variable to `1`, and we want to determine the appropriate life stage category for this age.\n",
        "\n",
        "Let's break down the code:\n",
        "\n",
        "1. **Variable Initialization**:\n",
        "   - `age = 1`: We start by setting the variable `age` to `1`. This represents the age of an individual for whom we are determining the life stage category.\n",
        "\n",
        "2. **First Conditional Check - `if` Statement**:\n",
        "   - `if age >= 18:`: This line checks whether the value of `age` is greater than or equal to `18`.\n",
        "   - If this condition is `True`, the code inside this block will execute, printing `\"Adult\"`.\n",
        "   - In our case, since `age` is `1`, this condition is `False`, so we move on to the next conditional statement.\n",
        "\n",
        "3. **Second Conditional Check - First `elif` (else if) Statement**:\n",
        "   - `elif 1 <= age <= 3:`: This line checks if the age is between `1` and `3`, inclusive.\n",
        "   - If the condition is `True`, the code inside this block will execute, printing `\"Baby\"`.\n",
        "   - For `age = 1`, this condition is `True`. Therefore, `\"Baby\"` is printed, and the program does not check the subsequent `elif` or `else` blocks.\n",
        "\n",
        "4. **Third Conditional Check - Second `elif` Statement** (Note: This block is not reached in this specific example):\n",
        "   - `elif age >= 13:`: This line checks whether the age is greater than or equal to `13`.\n",
        "   - If the condition is `True`, the code inside this block will execute, printing `\"Teenager\"`.\n",
        "   - However, as we've seen, the program has already found a `True` condition in the previous `elif` block and printed `\"Baby\"`, so this block would not be executed for `age = 1`.\n",
        "\n",
        "5. **Final Condition - `else` Statement** (Note: This block is not reached in this specific example):\n",
        "   - `else:`: This is the final part of our conditional structure. It captures any cases not addressed by the preceding `if` and `elif` statements.\n",
        "   - If none of the above conditions were `True`, this block would execute, printing `\"Child\"`.\n",
        "\n",
        "In summary, the code correctly categorizes a person with an age of `1` as a `\"Baby\"`. This example demonstrates how the `if-elif-else` structure allows for detailed and sequential checking of conditions, ensuring that each possible range of age is considered, and the appropriate category is printed.\n"
      ],
      "metadata": {
        "id": "81YovsxTTIgW"
      }
    },
    {
      "cell_type": "code",
      "source": [
        "a = 10\n",
        "\n",
        "if a>5:\n",
        "  print(\"greater than 5\")\n",
        "else:\n",
        "  print(\"less than 5\")"
      ],
      "metadata": {
        "colab": {
          "base_uri": "https://localhost:8080/"
        },
        "id": "XIqz9VVHZQSk",
        "outputId": "26cf1301-c0bf-478f-8c96-4302ba33e080"
      },
      "execution_count": null,
      "outputs": [
        {
          "output_type": "stream",
          "name": "stdout",
          "text": [
            "greater than 5\n"
          ]
        }
      ]
    },
    {
      "cell_type": "markdown",
      "source": [
        "#### Explanation of the if-else Statement for Value Comparison\n",
        "\n",
        "This code snippet showcases the use of an `if-else` statement in Python to compare the value of a variable (`a`) against a specific number (`5`) and to execute different actions based on the result of the comparison.\n",
        "\n",
        "1. **Variable Initialization**:\n",
        "   - `a = 10`: We begin by assigning the value `10` to the variable `a`. This is the value that will be used in the upcoming comparison.\n",
        "\n",
        "2. **Conditional Check - if Statement**:\n",
        "   - `if a > 5:`: This line marks the start of the conditional statement. It checks whether the value of `a` is greater than `5`.\n",
        "   - If the condition evaluates to `True`, which means `a` is indeed greater than `5`, then the code inside the `if` block will be executed.\n",
        "   - In our case, since `a` is `10` and `10` is greater than `5`, the condition is `True`.\n",
        "\n",
        "3. **Executing the if Block**:\n",
        "   - The `if` block contains the statement `print(\"greater than 5\")`. Because the condition `a > 5` is `True` (since `10` is indeed greater than `5`), this line is executed and `\"greater than 5\"` is printed to the console.\n",
        "\n",
        "4. **else Statement**:\n",
        "   - The `else` statement is the next part of the conditional structure. It defines what to do if the condition in the `if` statement is `False`.\n",
        "   - However, in this scenario, the `if` condition is `True`, so the `else` block is skipped and its code is not executed.\n",
        "\n",
        "5. **Conclusion of the Conditional Statements**:\n",
        "   - The code evaluates the condition `a > 5` using the value of `a` (`10` in this case).\n",
        "   - Since `10` is greater than `5`, the program recognizes this and prints the corresponding message `\"greater than 5\"`.\n",
        "   - If the value of `a` were `5` or less, the `else` block would be executed instead, printing `\"less than 5\"`.\n",
        "\n",
        "In summary, this code snippet effectively demonstrates how to use `if-else` statements to make decisions based on comparisons. This is a fundamental concept in programming, enabling code to take different paths and perform different operations based on conditions.\n"
      ],
      "metadata": {
        "id": "rGm6VWUb10gX"
      }
    },
    {
      "cell_type": "code",
      "source": [
        "a=3\n",
        "\n",
        "#a>5 ==> 10>5 ==>True\n",
        "\n",
        "if a>5:\n",
        "  print(\"true\")\n",
        "\n",
        "else:\n",
        "  print(\"false\")"
      ],
      "metadata": {
        "colab": {
          "base_uri": "https://localhost:8080/"
        },
        "id": "1msV9pHGac26",
        "outputId": "3a56070c-1fbb-45ec-a18b-d89a99b13072"
      },
      "execution_count": null,
      "outputs": [
        {
          "output_type": "stream",
          "name": "stdout",
          "text": [
            "false\n"
          ]
        }
      ]
    },
    {
      "cell_type": "markdown",
      "source": [
        "#### Explanation of the if-else Statement for Condition Checking\n",
        "\n",
        "This code snippet demonstrates how to use an `if-else` statement to check a condition related to the value of a variable (`a`) and to execute different blocks of code depending on whether the condition is `True` or `False`. In this case, the condition is whether the variable `a` is greater than `5`.\n",
        "\n",
        "1. **Variable Initialization**:\n",
        "   - `a = 3`: The variable `a` is initialized with the value `3`. This is the value that will be used in the conditional check against `5`.\n",
        "\n",
        "2. **Conditional Check - if Statement**:\n",
        "   - `if a > 5:`: This line is the start of the conditional statement. It checks whether the value of `a` is greater than `5`.\n",
        "   - If this condition evaluates to `True`, the code inside the `if` block will execute. However, in our case, since `a` is `3`, which is not greater than `5`, the condition is `False`.\n",
        "\n",
        "3. **Execution Skips the if Block**:\n",
        "   - The `if` block contains the statement `print(\"true\")`. However, since the condition `a > 5` is `False` (because `3` is not greater than `5`), this block of code is skipped, and the program does not print `\"true\"`.\n",
        "\n",
        "4. **else Statement**:\n",
        "   - The `else` statement follows the `if` block. This block is executed if the condition in the `if` statement is `False`.\n",
        "   - Since the condition `a > 5` is indeed `False`, the code inside the `else` block is executed.\n",
        "\n",
        "5. **Executing the else Block**:\n",
        "   - Inside the `else` block, we have the statement `print(\"false\")`. Because the condition `a > 5` is `False`, this line is executed, and `\"false\"` is printed to the console.\n",
        "\n",
        "6. **Conclusion of the Conditional Statements**:\n",
        "   - The program checks whether the value of `a` (which is `3`) is greater than `5`.\n",
        "   - Since `3` is not greater than `5`, the condition evaluates to `False`, and the program correctly prints `\"false\"` as the output.\n",
        "   - The `if-else` structure ensures that one of the two print statements will execute based on the truth value of the condition.\n",
        "\n",
        "In summary, this code snippet effectively demonstrates how an `if-else` statement can be used to conditionally execute different blocks of code. It's a fundamental aspect of programming, allowing your code to make decisions and respond differently based on the conditions at hand.\n"
      ],
      "metadata": {
        "id": "ITQUXjuF2Qr4"
      }
    },
    {
      "cell_type": "markdown",
      "metadata": {
        "id": "0AsD0p0UgXbO"
      },
      "source": [
        "##Loops (for, while)"
      ]
    },
    {
      "cell_type": "markdown",
      "metadata": {
        "id": "dKZoD8B3gZoL"
      },
      "source": [
        "Loops are used for iterating over a sequence (like a list, tuple, dictionary, set, or string).\n",
        "\n",
        "1. for loop is used for iterating over a sequence.\n",
        "2. while loop is used to execute a set of statements as long as a condition is True."
      ]
    },
    {
      "cell_type": "code",
      "execution_count": null,
      "metadata": {
        "colab": {
          "base_uri": "https://localhost:8080/"
        },
        "id": "fMR4MfU_gV1X",
        "outputId": "cc1f6bdf-2f57-4e2b-aac1-34df13292ccc"
      },
      "outputs": [
        {
          "output_type": "stream",
          "name": "stdout",
          "text": [
            "banana\n",
            "cherry\n"
          ]
        }
      ],
      "source": [
        "# for loop\n",
        "fruits = [\"apple\", \"banana\", \"cherry\",\"blueberry\"]\n",
        "for i in fruits: #the elements in 0,1 index\n",
        "    print(i)"
      ]
    },
    {
      "cell_type": "markdown",
      "source": [
        "#### Explanation of Iterating Over a List with a for Loop\n",
        "\n",
        "This code snippet demonstrates how to use a `for` loop in Python to iterate over a list of fruits and print each fruit name. The list `fruits` contains four items: `\"apple\"`, `\"banana\"`, `\"cherry\"`, and `\"blueberry\"`.\n",
        "\n",
        "1. **Understanding the List**:\n",
        "   - `fruits = [\"apple\", \"banana\", \"cherry\", \"blueberry\"]`: Here, we have a list named `fruits` containing four string elements. Each element represents the name of a fruit.\n",
        "\n",
        "2. **Starting the for Loop**:\n",
        "   - The line `for i in fruits:` sets up the loop. In this loop, `i` is a temporary variable that takes the value of each item in the `fruits` list, one at a time, for each iteration of the loop.\n",
        "\n",
        "3. **Executing the Loop Body**:\n",
        "   - Inside the loop, the statement `print(i)` is executed for each iteration. This statement prints the value of `i`, which is the current item from the `fruits` list.\n",
        "   - The loop goes through each item in the `fruits` list, assigning the item to the variable `i` and then printing the value of `i`.\n",
        "\n",
        "4. **Iteration Breakdown**:\n",
        "   - **1st Iteration**: `i` is assigned the value `\"apple\"` (the first item in the list), and `\"apple\"` is printed.\n",
        "   - **2nd Iteration**: `i` is assigned the value `\"banana\"` (the second item in the list), and `\"banana\"` is printed.\n",
        "   - **3rd Iteration**: `i` is assigned the value `\"cherry\"` (the third item in the list), and `\"cherry\"` is printed.\n",
        "   - **4th Iteration**: `i` is assigned the value `\"blueberry\"` (the fourth item in the list), and `\"blueberry\"` is printed.\n",
        "\n",
        "5. **Conclusion of the Loop**:\n",
        "   - The `for` loop completes its execution after it has iterated over all the items in the `fruits` list. Each fruit name in the list is printed in the order they appear in the list.\n",
        "   - This type of loop provides an efficient way to perform an action (in this case, printing) on each item in a list, one item at a time.\n",
        "\n",
        "In summary, this code snippet effectively demonstrates how to use a `for` loop to iterate through a list and perform an action on each item. This pattern is commonly used in Python for processing items in collections, making the `for` loop an essential tool in many programming tasks.\n"
      ],
      "metadata": {
        "id": "nXjlPafu2rQp"
      }
    },
    {
      "cell_type": "code",
      "source": [
        "1st loop: i ==>apple :inside the loop ==> apple + fruit ==>apple fruit\n",
        "for i in fruits:\n",
        "    print(i+\" fruit\")"
      ],
      "metadata": {
        "colab": {
          "base_uri": "https://localhost:8080/"
        },
        "id": "uujPHB8BbR8g",
        "outputId": "c4daf78a-e765-42db-cddc-5cbc6969d2e4"
      },
      "execution_count": null,
      "outputs": [
        {
          "output_type": "stream",
          "name": "stdout",
          "text": [
            "apple fruit\n",
            "banana fruit\n",
            "cherry fruit\n"
          ]
        }
      ]
    },
    {
      "cell_type": "markdown",
      "source": [
        "#### Explanation of Iterating and Concatenating Strings in a for Loop\n",
        "\n",
        "This code snippet demonstrates how to use a `for` loop in Python to iterate over a list of fruits, and for each fruit, it concatenates the word `\"fruit\"` to the fruit name and prints the resulting string. The list `fruits` contains several fruit names.\n",
        "\n",
        "1. **Understanding the List**:\n",
        "   - `fruits = [\"apple\", \"banana\", \"cherry\", \"blueberry\"]`: We have a list named `fruits` containing four string elements. Each element is the name of a fruit.\n",
        "\n",
        "2. **Starting the for Loop**:\n",
        "   - The line `for i in fruits:` initiates the loop. In this loop, `i` is a temporary variable that takes the value of each item in the `fruits` list, one at a time, for each iteration of the loop.\n",
        "\n",
        "3. **Executing the Loop Body - Concatenating and Printing**:\n",
        "   - Inside the loop, we perform a string concatenation operation and print the result: `print(i + \" fruit\")`.\n",
        "   - For each iteration, this statement takes the current fruit name (the value of `i`), concatenates it with the string `\" fruit\"`, and then prints the concatenated string.\n",
        "\n",
        "4. **Iteration Breakdown**:\n",
        "   - **1st Iteration**: `i` takes the value `\"apple\"`. The concatenated string `\"apple fruit\"` is created and printed.\n",
        "   - **2nd Iteration**: `i` takes the value `\"banana\"`. The concatenated string `\"banana fruit\"` is created and printed.\n",
        "   - **3rd Iteration**: `i` takes the value `\"cherry\"`. The concatenated string `\"cherry fruit\"` is created and printed.\n",
        "   - **4th Iteration**: `i` takes the value `\"blueberry\"`. The concatenated string `\"blueberry fruit\"` is created and printed.\n",
        "\n",
        "5. **Conclusion of the Loop**:\n",
        "   - The `for` loop completes its execution after it has iterated over all items in the `fruits` list. For each fruit name, the loop creates and prints a new string that combines the fruit name with the word `\"fruit\"`.\n",
        "   - This demonstrates how a `for` loop can not only iterate through list items but also perform operations on them—in this case, concatenating strings.\n",
        "\n",
        "In summary, this code snippet effectively demonstrates how a `for` loop can be used to iterate through a list, perform string concatenation on each item, and execute an action (printing in this case) on the resulting strings. It's a common pattern in Python for processing and transforming items in collections.\n"
      ],
      "metadata": {
        "id": "gLEqqdX42-Br"
      }
    },
    {
      "cell_type": "code",
      "execution_count": null,
      "metadata": {
        "colab": {
          "base_uri": "https://localhost:8080/"
        },
        "id": "uM2QKTRZggvv",
        "outputId": "24adcab0-beb3-4e13-8520-5c92517cd551"
      },
      "outputs": [
        {
          "output_type": "stream",
          "name": "stdout",
          "text": [
            "5\n",
            "6\n",
            "7\n",
            "8\n",
            "9\n",
            "10\n"
          ]
        }
      ],
      "source": [
        "# Print numbers from 0 to 4\n",
        "for i in range(5,11):\n",
        "    i  %= 1  #i =i +1\n",
        "    print(i)\n",
        "\n"
      ]
    },
    {
      "cell_type": "markdown",
      "source": [
        "#### Explanation of Iterating Over a Range and Using the Modulus Operator\n",
        "\n",
        "This code snippet demonstrates how to use a `for` loop in Python to iterate over a range of numbers from `5` to `10` (as generated by `range(5, 11)`) and then perform a modulus operation on each number before printing the result.\n",
        "\n",
        "1. **Understanding the Range Function**:\n",
        "   - `for i in range(5, 11)`: The `range(5, 11)` function generates a sequence of numbers starting from `5` and ending at `10` (since the end value `11` is exclusive in the range function). This sequence is `5, 6, 7, 8, 9, 10`.\n",
        "\n",
        "2. **Starting the for Loop**:\n",
        "   - The `for` loop iterates over each number in this sequence. The variable `i` is used as the loop variable, and it takes each value from the `range(5, 11)` one by one.\n",
        "\n",
        "3. **Executing the Loop Body - Modulus Operation**:\n",
        "   - Inside the loop, we perform a modulus operation: `i %= 1`.\n",
        "   - The modulus operator `%` returns the remainder of the division of `i` by `1`.\n",
        "   - However, since any number divided by `1` has a remainder of `0`, the result of this operation will always be `0` regardless of the value of `i`.\n",
        "   - As a result, `i` is set to `0` in each iteration due to the operation `i %= 1`.\n",
        "\n",
        "4. **Printing the Result**:\n",
        "   - After the modulus operation, the `print(i)` statement is executed, which prints the current value of `i`.\n",
        "   - Given the modulus operation described above, the output will be `0` for each iteration of the loop.\n",
        "\n",
        "5. **Conclusion of the Loop**:\n",
        "   - The loop iterates over each number from `5` to `10`, but due to the modulus operation `i %= 1`, the printed value is `0` in each iteration.\n",
        "   - This demonstrates how the `for` loop iterates through the range and how the modulus operation affects the value of the loop variable.\n",
        "\n",
        "In summary, while the loop is set up to iterate through a range of numbers, the specific operation performed inside the loop (`i %= 1`) results in `0` being printed for each number in the range. This code snippet is a good demonstration of how the `for` loop works and how the modulus operation behaves with a divisor of `1`.\n"
      ],
      "metadata": {
        "id": "lzHQcMed3OM-"
      }
    },
    {
      "cell_type": "code",
      "source": [
        "for i in range(1, 11):  # Note that range goes from the start value up to but not including the end value\n",
        "    print(i)"
      ],
      "metadata": {
        "colab": {
          "base_uri": "https://localhost:8080/"
        },
        "id": "Hdhkdh9cMgbZ",
        "outputId": "c246f39a-eacb-4b63-86b9-7ae8acb75775"
      },
      "execution_count": null,
      "outputs": [
        {
          "output_type": "stream",
          "name": "stdout",
          "text": [
            "1\n",
            "2\n",
            "3\n",
            "4\n",
            "5\n",
            "6\n",
            "7\n",
            "8\n",
            "9\n",
            "10\n"
          ]
        }
      ]
    },
    {
      "cell_type": "markdown",
      "source": [
        "#### Explanation of Iterating Over a Range with a for Loop\n",
        "\n",
        "This code snippet demonstrates how to use a `for` loop in Python to iterate over a range of numbers and print each number. The `range` function is used to generate a sequence of numbers, and the `for` loop iterates over each number in this sequence.\n",
        "\n",
        "1. **Understanding the Range Function**:\n",
        "   - `for i in range(1, 11)`: The `range(1, 11)` function generates a sequence of numbers starting from `1` and ending at `10`. It's important to note that the end value in the `range` function is exclusive, meaning the sequence will include numbers up to `10` but not including `11`. The generated sequence is `1, 2, 3, 4, 5, 6, 7, 8, 9, 10`.\n",
        "\n",
        "2. **Starting the for Loop**:\n",
        "   - The `for` loop is set up with the `range(1, 11)` function, which means the loop will iterate over each number in the sequence `1` to `10`.\n",
        "   - The variable `i` is used as the loop variable. In each iteration of the loop, `i` takes on the next value in the range.\n",
        "\n",
        "3. **Executing the Loop Body - Printing Numbers**:\n",
        "   - Inside the loop, we have a single statement: `print(i)`. This statement is executed once for each iteration of the loop.\n",
        "   - As the loop runs, it prints each number in the range, starting from `1` and ending at `10`.\n",
        "\n",
        "4. **Iteration Breakdown**:\n",
        "   - The loop begins with `i` equal to `1`, the first number in the range.\n",
        "   - In each subsequent iteration, `i` takes on the next value in the sequence (`2`, `3`, `4`, ..., `10`).\n",
        "   - For each value of `i`, the `print(i)` statement outputs the current number to the console.\n",
        "\n",
        "5. **Conclusion of the Loop**:\n",
        "   - The `for` loop completes its execution after it has iterated over all the numbers in the range `1` to `10`. Each number in the sequence is printed in ascending order.\n",
        "   - This type of loop provides an efficient way to perform an action (in this case, printing) on each number in a specified range.\n",
        "\n",
        "In summary, this code snippet effectively demonstrates how to use a `for` loop to iterate through a range of numbers and perform an action on each number. This pattern is commonly used in Python for processing sequences of numbers, making the `for` loop an essential tool in many programming tasks.\n"
      ],
      "metadata": {
        "id": "goKbqnjx3dfx"
      }
    },
    {
      "cell_type": "code",
      "execution_count": null,
      "metadata": {
        "colab": {
          "base_uri": "https://localhost:8080/"
        },
        "id": "3UVN9Ckrg7L2",
        "outputId": "6151d951-9916-4442-b53f-0de5a1b0d71a"
      },
      "outputs": [
        {
          "output_type": "stream",
          "name": "stdout",
          "text": [
            "H\n",
            "e\n",
            "l\n",
            "l\n",
            "o\n"
          ]
        }
      ],
      "source": [
        "# Iterate over a string\n",
        "for char in \"Hello\":\n",
        "    print(char)\n"
      ]
    },
    {
      "cell_type": "markdown",
      "source": [
        "#### Explanation of Iterating Over a String with a for Loop\n",
        "\n",
        "This code snippet demonstrates how to use a `for` loop in Python to iterate over each character in a string and print each character individually. The string used in this example is `\"Hello\"`.\n",
        "\n",
        "1. **Understanding String Iteration**:\n",
        "   - A string in Python is a sequence of characters. Python allows you to iterate over these characters using a `for` loop, treating the string as a sequence where each element is a character.\n",
        "\n",
        "2. **Starting the for Loop**:\n",
        "   - The line `for char in \"Hello\":` sets up the loop. Here, `char` is a temporary variable that takes the value of each character in the string `\"Hello\"`, one at a time, for each iteration of the loop.\n",
        "\n",
        "3. **Executing the Loop Body - Printing Characters**:\n",
        "   - Inside the loop, the statement `print(char)` is executed for each iteration. This statement prints the current character (the value of `char`).\n",
        "   - The loop goes through each character in the string `\"Hello\"`, assigning the character to the variable `char` and then printing the value of `char`.\n",
        "\n",
        "4. **Iteration Breakdown**:\n",
        "   - The loop starts with the first character of the string. In this case, `char` is assigned the value `'H'`, and `'H'` is printed.\n",
        "   - In each subsequent iteration, `char` takes on the next character in the string (`'e'`, `'l'`, `'l'`, `'o'`).\n",
        "   - For each character, the `print(char)` statement outputs the current character to the console.\n",
        "\n",
        "5. **Conclusion of the Loop**:\n",
        "   - The `for` loop completes its execution after it has iterated over all the characters in the string `\"Hello\"`. Each character in the string is printed in the order it appears.\n",
        "\n",
        "In summary, this code snippet effectively demonstrates how a `for` loop can be used to iterate through each character in a string and perform an action (printing in this case) on each character. This is a common pattern in Python for processing individual characters in strings, making the `for` loop an essential tool in string manipulation tasks.\n"
      ],
      "metadata": {
        "id": "kajEjoy13ovp"
      }
    },
    {
      "cell_type": "code",
      "execution_count": null,
      "metadata": {
        "colab": {
          "base_uri": "https://localhost:8080/"
        },
        "id": "VSqmWbo3g-Lz",
        "outputId": "cb84c7c7-2433-41ce-925e-52e04022c2de"
      },
      "outputs": [
        {
          "output_type": "stream",
          "name": "stdout",
          "text": [
            "Index: 0, Color: red\n",
            "Index: 1, Color: green\n",
            "Index: 2, Color: blue\n"
          ]
        }
      ],
      "source": [
        "# Enumerate over a list\n",
        "colors = [\"red\", \"green\", \"blue\"]\n",
        "for index, color in enumerate(colors):\n",
        "    print(f\"Index: {index}, Color: {color}\")\n"
      ]
    },
    {
      "cell_type": "markdown",
      "source": [
        "#### Explanation of Enumerating Over a List with a for Loop\n",
        "\n",
        "This code snippet demonstrates how to use the `enumerate` function in combination with a `for` loop in Python to iterate over a list of colors. The `enumerate` function adds a counter to an iterable and returns it, allowing us to have access to both the index and the value of each item in the list.\n",
        "\n",
        "1. **Understanding the List and Enumerate Function**:\n",
        "   - `colors = [\"red\", \"green\", \"blue\"]`: We start with a list named `colors` containing three string elements. Each element represents a color.\n",
        "   - The `enumerate` function is used to get both the index and the value of each item in the `colors` list during the iteration process.\n",
        "\n",
        "2. **Starting the for Loop with Enumerate**:\n",
        "   - The line `for index, color in enumerate(colors):` sets up the loop. The `enumerate(colors)` function returns a sequence of `(index, value)` pairs.\n",
        "   - The variables `index` and `color` are used as loop variables. In each iteration of the loop, `index` takes the index of the current item, and `color` takes the value (color name) of the current item.\n",
        "\n",
        "3. **Executing the Loop Body - Printing Index and Color**:\n",
        "   - Inside the loop, the statement `print(f\"Index: {index}, Color: {color}\")` is executed for each iteration. This statement prints the current index and the corresponding color.\n",
        "   - The loop goes through each item in the `colors` list, with `enumerate` providing both the index and the value of each item. These are then printed in a formatted string.\n",
        "\n",
        "4. **Iteration Breakdown**:\n",
        "   - The loop starts with the first item of the list. In the first iteration, `index` is `0` (lists are zero-indexed in Python), and `color` is `\"red\"`. The formatted string `\"Index: 0, Color: red\"` is printed.\n",
        "   - In the subsequent iterations, `index` and `color` take the values `(1, \"green\")` and `(2, \"blue\")`, respectively. Corresponding formatted strings are printed for each.\n",
        "\n",
        "5. **Conclusion of the Loop**:\n",
        "   - The `for` loop completes its execution after it has iterated over all items in the `colors` list. For each item, the index and the color name are printed in a formatted manner.\n",
        "   - This demonstrates how the `enumerate` function can be effectively used in a loop to access both the index and the value of each item in a list.\n",
        "\n",
        "In summary, this code snippet effectively demonstrates how to use a `for` loop with the `enumerate` function to iterate through a list while having access to both the index and the value of each item. This pattern is commonly used in Python when both the index and the value are needed during list processing.\n"
      ],
      "metadata": {
        "id": "HCDqnbId31O1"
      }
    },
    {
      "cell_type": "code",
      "execution_count": null,
      "metadata": {
        "id": "0qQxR4T1giWH",
        "colab": {
          "base_uri": "https://localhost:8080/"
        },
        "outputId": "a784f7fa-b4d9-4b84-af91-0181f95cdff6"
      },
      "outputs": [
        {
          "output_type": "stream",
          "name": "stdout",
          "text": [
            "5\n",
            "4\n"
          ]
        }
      ],
      "source": [
        "# while loop\n",
        "count = 5\n",
        "while count > 3:\n",
        "    print(count)\n",
        "    count -= 1  #count= count-1 ==>count=3"
      ]
    },
    {
      "cell_type": "markdown",
      "source": [
        "#### Explanation of the while Loop with a Decrementing Counter\n",
        "\n",
        "This code snippet demonstrates how to use a `while` loop in Python to repeatedly execute a block of code as long as a certain condition remains `True`. In this case, the loop prints and decrements the value of `count` as long as `count` is greater than `3`.\n",
        "\n",
        "1. **Variable Initialization**:\n",
        "   - `count = 5`: We start by initializing the variable `count` to `5`. This variable will serve as our loop control variable, determining when the loop continues or stops based on its value.\n",
        "\n",
        "2. **Setting Up the while Loop**:\n",
        "   - The loop begins with the condition `while count > 3:`. This condition is checked before each iteration of the loop, and the loop continues as long as the condition is `True`.\n",
        "   - The loop is designed to run as long as `count` is greater than `3`.\n",
        "\n",
        "3. **Executing the Loop Body - Printing and Decrementing**:\n",
        "   - Inside the loop, the first line `print(count)` prints the current value of `count` to the console.\n",
        "   - The next line `count -= 1` is a decrement operation. It's shorthand for `count = count - 1`, meaning the current value of `count` is reduced by `1`. This operation ensures that the loop makes progress towards its termination condition.\n",
        "\n",
        "4. **Iteration Breakdown**:\n",
        "   - **1st Iteration**: Initially, `count` is `5`. `5 > 3` is `True`, so `5` is printed, and then `count` becomes `4`.\n",
        "   - **2nd Iteration**: Now, `count` is `4`. `4 > 3` is still `True`, so `4` is printed, and then `count` becomes `3`.\n",
        "   - After the 2nd iteration, `count` is `3`, and `3 > 3` is `False`. The loop condition is no longer met.\n",
        "\n",
        "5. **Conclusion of the Loop**:\n",
        "   - The `while` loop terminates when `count` is no longer greater than `3`. In this case, the loop stops after printing `5` and `4`.\n",
        "   - This example demonstrates how a `while` loop can be used to execute a block of code repeatedly with a condition that involves a decrementing counter.\n",
        "\n",
        "In summary, this code snippet effectively illustrates the use of a `while` loop with a condition based on a decrementing counter. The loop provides a structured way to perform repeated actions until a specific condition is met, making it a fundamental tool in many programming scenarios.\n"
      ],
      "metadata": {
        "id": "QP-XGp-n4AIP"
      }
    },
    {
      "cell_type": "code",
      "execution_count": null,
      "metadata": {
        "colab": {
          "base_uri": "https://localhost:8080/"
        },
        "id": "3EcKDZ_0g-0U",
        "outputId": "1a18c4c5-2131-4ade-b5fb-55bd2f69b15e"
      },
      "outputs": [
        {
          "output_type": "stream",
          "name": "stdout",
          "text": [
            "sum=  1\n",
            "num=  2\n",
            "sum=  3\n",
            "num=  3\n",
            "sum=  6\n",
            "num=  4\n",
            "sum=  10\n",
            "num=  5\n",
            "sum=  15\n",
            "num=  6\n"
          ]
        }
      ],
      "source": [
        "# Sum numbers from 1 to 5\n",
        "sum = 0\n",
        "num = 1\n",
        "while num <= 5: # 1st iteration==> 1<=5=true #2nd iteration sum =1 and num=2 and ....\n",
        "    sum = sum + num #sum =>0+1=1 =>1+2 =3 => 3+3=6 => 6+4=10 =>10+5=15 and ...\n",
        "    print(\"sum= \",sum)\n",
        "    num = num + 1   #num = num + 1  =>2 =>3 =>4 =>5 =>6\n",
        "    print(\"num= \",num)\n"
      ]
    },
    {
      "cell_type": "markdown",
      "source": [
        "#### Explanation of Summing Numbers with a while Loop\n",
        "\n",
        "This code snippet demonstrates how to use a `while` loop to calculate the sum of numbers from `1` to `5`. The loop iterates, adding each number to a cumulative total until the specified condition is no longer met.\n",
        "\n",
        "Here's a detailed breakdown of the code:\n",
        "\n",
        "1. **Initialization**:\n",
        "   - `sum = 0`: We start by initializing the variable `sum` to `0`. This variable will accumulate the total sum as numbers are added to it in each iteration.\n",
        "   - `num = 1`: We also initialize the variable `num` to `1`. This variable acts as our counter and represents the current number to be added to `sum`.\n",
        "\n",
        "2. **Starting the while Loop**:\n",
        "   - `while num <= 5:`: This is our loop condition. The loop will continue executing as long as the value of `num` is less than or equal to `5`.\n",
        "\n",
        "3. **Summing the Numbers**:\n",
        "   - Inside the loop, we perform the operation `sum = sum + num`. This adds the current value of `num` to `sum`. For each iteration, `sum` keeps accumulating the total:\n",
        "     - 1st iteration: `sum = 0 + 1 = 1`\n",
        "     - 2nd iteration: `sum = 1 + 2 = 3`\n",
        "     - 3rd iteration: `sum = 3 + 3 = 6`\n",
        "     - 4th iteration: `sum = 6 + 4 = 10`\n",
        "     - 5th iteration: `sum = 10 + 5 = 15`\n",
        "\n",
        "4. **Printing Intermediate Results**:\n",
        "   - After each addition, we print the intermediate value of `sum` using `print(\"sum= \", sum)`. This shows how `sum` is changing after each iteration.\n",
        "\n",
        "5. **Incrementing the Counter**:\n",
        "   - We then increment `num` by `1` using `num = num + 1`. This ensures that the loop progresses and eventually meets the termination condition.\n",
        "   - We also print the updated value of `num` using `print(\"num= \", num)` to observe how `num` changes in each iteration.\n",
        "\n",
        "6. **Loop Continuation and Termination**:\n",
        "   - The loop continues until `num` exceeds `5`. At this point, the condition `num <= 5` becomes `False`, and the loop terminates.\n",
        "   - By the end of the loop, `sum` holds the total sum of numbers from `1` to `5`, which is `15`.\n",
        "\n",
        "In summary, this code snippet effectively demonstrates the use of a `while` loop to accumulate a sum. It illustrates the concept of maintaining and updating variables within a loop, as well as the importance of having a clear termination condition to prevent infinite loops.\n"
      ],
      "metadata": {
        "id": "Tmn-3J7ZWMiB"
      }
    },
    {
      "cell_type": "code",
      "execution_count": null,
      "metadata": {
        "colab": {
          "base_uri": "https://localhost:8080/"
        },
        "id": "EovdmGfrhB2-",
        "outputId": "9602b17f-7728-4fcc-d17b-a8e0c2e5e21b"
      },
      "outputs": [
        {
          "output_type": "stream",
          "name": "stdout",
          "text": [
            "1\n",
            "2\n",
            "3\n",
            "4\n",
            "5\n",
            "Breaking at 6\n"
          ]
        }
      ],
      "source": [
        "# Break the loop when num equals 4\n",
        "num = 1\n",
        "while num <= 10:  #1st iteration==> 1<=10 2nd iteration==> 2<=10  3rd iteration ==> 3<=10 4th iteration ==>4<=10\n",
        "    if num == 6: #1st iteration==> 1==4   2nd iteration==> 2==4   3rd iteration ==> 3==4  4th iteration ==> 4==4\n",
        "        print(\"Breaking at 6\")\n",
        "        break\n",
        "    print(num)\n",
        "    num = num + 1  #1+1=2  2nd iteration==> 2+1=3  3rd iteration ==>3+1=4\n"
      ]
    },
    {
      "cell_type": "markdown",
      "source": [
        "#### Explanation of the while Loop with a break Statement\n",
        "\n",
        "\n",
        "This code snippet demonstrates the use of a `while` loop along with a `break` statement to control the flow of the loop. The loop is designed to print numbers starting from `1` and to break the loop when the number reaches `6`.\n",
        "\n",
        "1. **Initialization**:\n",
        "   - `num = 1`: We initialize the variable `num` with a value of `1`. This variable will serve as our counter, incrementing in each iteration of the loop.\n",
        "\n",
        "2. **Starting the while Loop**:\n",
        "   - The loop begins with the condition `while num <= 10:`. This condition is checked before each iteration, and the loop continues as long as `num` is less than or equal to `10`.\n",
        "\n",
        "3. **Inside the Loop - Checking the Condition**:\n",
        "   - Within the loop, we have a conditional statement `if num == 6:`.\n",
        "   - This condition is checked in each iteration. If `num` equals `6`, the code inside the `if` block is executed, which prints `\"Breaking at 6\"` and then executes a `break` statement to exit the loop.\n",
        "\n",
        "4. **Inside the Loop - Printing and Incrementing**:\n",
        "   - Before the conditional `if` statement, we print the current value of `num`. This means, for each iteration, `num` is printed, starting from `1`.\n",
        "   - After printing, we increment `num` by `1` using the statement `num = num + 1`. This ensures the loop continues to the next number.\n",
        "\n",
        "5. **Iteration Breakdown**:\n",
        "   - **1st Iteration**: `num` is `1`. `1 <= 10` is `True`. `1` is printed. `num` becomes `2`.\n",
        "   - **2nd Iteration**: `num` is `2`. `2 <= 10` is `True`. `2` is printed. `num` becomes `3`.\n",
        "   - **3rd Iteration**: `num` is `3`. `3 <= 10` is `True`. `3` is printed. `num` becomes `4`.\n",
        "   - **4th Iteration**: `num` is `4`. `4 <= 10` is `True`. `4` is printed. `num` becomes `5`.\n",
        "   - **5th Iteration**: `num` is `5`. `5 <= 10` is `True`. `5` is printed. `num` becomes `6`.\n",
        "   - **6th Iteration**: `num` is `6`. `6 <= 10` is `True`. But `num == 6` is also `True`, so `\"Breaking at 6\"` is printed, and the loop is exited due to the `break` statement.\n",
        "\n",
        "6. **Conclusion of the Loop**:\n",
        "   - The loop prints numbers `1` through `5` sequentially.\n",
        "   - Upon reaching `6`, the loop prints `\"Breaking at 6\"` and then breaks. The numbers `7` to `10` are not printed because the loop is terminated prematurely.\n",
        "\n",
        "In summary, this code snippet illustrates how a `while` loop can be used with a `break` statement to exit the loop based on a specific condition. The `break` statement provides a way to 'break out' of the loop from anywhere within the loop's body, offering a powerful tool for controlling the flow of the loop beyond the condition specified at the start of the loop.\n",
        "\n"
      ],
      "metadata": {
        "id": "TRPWjiTnUfs-"
      }
    },
    {
      "cell_type": "markdown",
      "metadata": {
        "id": "8bsc52CMhFLs"
      },
      "source": [
        "##Emulating do-while Loop"
      ]
    },
    {
      "cell_type": "markdown",
      "metadata": {
        "id": "x0cFbpzBhOCt"
      },
      "source": [
        "Python does not have a built-in do-while loop, but you can create a loop that has similar behavior by using a while loop with a condition that always starts as True, and then use a conditional break statement to exit the loop."
      ]
    },
    {
      "cell_type": "code",
      "execution_count": null,
      "metadata": {
        "colab": {
          "base_uri": "https://localhost:8080/"
        },
        "id": "POU7SOLJhPnF",
        "outputId": "883f3cae-8ddf-45c9-b9f8-09822770e282"
      },
      "outputs": [
        {
          "output_type": "stream",
          "name": "stdout",
          "text": [
            "1\n",
            "2\n",
            "3\n",
            "4\n",
            "5\n"
          ]
        }
      ],
      "source": [
        "num = 1\n",
        "while True:\n",
        "    print(num)\n",
        "    num =num + 1  #ist loop =>num =1+1=2  2nd loop => num  =2+1=3  3rdloop =>num=3+1=4  4th loop=> num=4+1= 5  5th loop => num=5+1=6\n",
        "    if num > 5:   #1st loop=>  2>5  2nd loop 3>5 3rd loop 4>5 4th loop 5>5  5th loop 6>5\n",
        "        break\n"
      ]
    },
    {
      "cell_type": "markdown",
      "source": [
        "#### Explanation of the while True Loop with a break Statement\n",
        "\n",
        "This code snippet illustrates how to use an infinite `while True` loop in combination with a `break` statement. The loop prints numbers starting from `1` and stops when the number exceeds `5`.\n",
        "\n",
        "1. **Initialization**:\n",
        "   - `num = 1`: We start with the variable `num` initialized to `1`. This variable acts as our counter, incrementing in each iteration of the loop.\n",
        "\n",
        "2. **Starting the while True Loop**:\n",
        "   - The loop begins with `while True:`, which creates an infinite loop. This means the loop will continue to run indefinitely unless explicitly instructed to stop.\n",
        "\n",
        "3. **Inside the Loop - Printing and Incrementing**:\n",
        "   - Inside the loop, we first print the current value of `num`. This means, for each iteration, `num` is printed, starting from `1`.\n",
        "   - We then increment `num` by `1` using `num = num + 1`. This ensures that the loop progresses to the next number.\n",
        "\n",
        "4. **Inside the Loop - Conditional Break**:\n",
        "   - After incrementing, we check the condition `if num > 5:`. If this condition is `True`, the `break` statement is executed, which immediately exits the loop.\n",
        "   - The `break` statement is crucial here; without it, the loop would continue indefinitely because the loop condition is `True`.\n",
        "\n",
        "5. **Iteration Breakdown**:\n",
        "   - **1st Iteration**: `num` is `1`. `1` is printed. `num` becomes `2`.\n",
        "   - **2nd Iteration**: `num` is `2`. `2` is printed. `num` becomes `3`.\n",
        "   - **3rd Iteration**: `num` is `3`. `3` is printed. `num` becomes `4`.\n",
        "   - **4th Iteration**: `num` is `4`. `4` is printed. `num` becomes `5`.\n",
        "   - **5th Iteration**: `num` is `5`. `5` is printed. `num` becomes `6`.\n",
        "   - **6th Iteration**: `num` is `6`. The condition `6 > 5` is `True`, so the loop breaks.\n",
        "\n",
        "6. **Conclusion of the Loop**:\n",
        "   - The loop prints numbers `1` through `5` sequentially.\n",
        "   - When `num` becomes `6`, the condition `num > 5` is met, triggering the `break` statement, which terminates the loop.\n",
        "\n",
        "In summary, this code snippet demonstrates how an infinite loop can be controlled and eventually terminated using a conditional `break` statement. This pattern allows for a loop to run indefinitely until a specific condition is met, at which point the loop is exited cleanly.\n"
      ],
      "metadata": {
        "id": "vXQxrM92ATgq"
      }
    },
    {
      "cell_type": "markdown",
      "metadata": {
        "id": "QH46Nnq_gjTh"
      },
      "source": [
        "## Loop Control Statements (break, continue, pass)"
      ]
    },
    {
      "cell_type": "markdown",
      "metadata": {
        "id": "w8iUq-1QgnA4"
      },
      "source": [
        "1. Loop control statements change the execution of a loop from its normal sequence.\n",
        "2. break is used to exit the loop.\n",
        "3. continue skips the rest of the code inside a loop for the current iteration and moves to the next iteration.\n",
        "4. pass is a null statement, it does nothing and is used as a placeholder."
      ]
    },
    {
      "cell_type": "code",
      "execution_count": null,
      "metadata": {
        "colab": {
          "base_uri": "https://localhost:8080/"
        },
        "id": "-ikAa9BpgmRQ",
        "outputId": "e9869a1f-6457-4e3a-e1cb-1ab6e66286f0"
      },
      "outputs": [
        {
          "output_type": "stream",
          "name": "stdout",
          "text": [
            "1\n",
            "2\n",
            "3\n",
            "4\n",
            "1\n",
            "3\n",
            "5\n",
            "7\n",
            "9\n",
            "1\n",
            "3\n",
            "5\n",
            "7\n",
            "9\n"
          ]
        }
      ],
      "source": [
        "# break\n",
        "for i in range(1, 10):\n",
        "    if i == 5:\n",
        "        break\n",
        "    print(i)  # This will print numbers from 1 to 4\n",
        "\n",
        "# continue\n",
        "for i in range(1, 10):\n",
        "    if i % 2 == 0:\n",
        "        continue\n",
        "    print(i)  # This will print odd numbers\n",
        "\n",
        "# pass\n",
        "for i in range(1, 10):\n",
        "    if i % 2 == 0:\n",
        "        pass  # You can put some code here later\n",
        "    else:\n",
        "        print(i)  # This will print odd numbers\n"
      ]
    },
    {
      "cell_type": "markdown",
      "source": [
        "#### Explanation of break, continue, and pass in for Loops\n",
        "\n",
        "This code snippet demonstrates the use of `break`, `continue`, and `pass` statements in `for` loops in Python. These control statements are used to modify the behavior of loop iterations.\n",
        "\n",
        "## Using break in a for Loop\n",
        "- The `break` statement is used to exit a loop prematurely when a certain condition is met.\n",
        "- In the first loop, we iterate over a range of numbers from `1` to `9`.\n",
        "- The `if i == 5:` condition checks if the loop variable `i` equals `5`. If this condition is `True`, the `break` statement is executed, and the loop terminates immediately.\n",
        "- As a result, numbers from `1` to `4` are printed, and the loop stops before printing `5`.\n",
        "\n",
        "## Using continue in a for Loop\n",
        "- The `continue` statement is used to skip the rest of the code inside the loop for the current iteration.\n",
        "- In the second loop, we also iterate over a range of numbers from `1` to `9`.\n",
        "- The `if i % 2 == 0:` condition checks if `i` is an even number (divisible by `2`). If this condition is `True`, the `continue` statement is executed, and the current iteration is skipped.\n",
        "- This results in only odd numbers being printed (`1`, `3`, `5`, `7`, `9`), as the loop skips the print statement for even numbers.\n",
        "\n",
        "## Using pass in a for Loop\n",
        "- The `pass` statement is a null operation; nothing happens when it executes. It's used as a placeholder for future code.\n",
        "- In the third loop, we iterate over the same range of numbers.\n",
        "- The `if i % 2 == 0:` condition checks again if `i` is an even number. When this condition is `True`, the `pass` statement is executed, but it does not have any effect.\n",
        "- The `else` block prints odd numbers (`1`, `3`, `5`, `7`, `9`). In this case, `pass` simply acts as a placeholder and does not affect the loop's execution.\n",
        "\n",
        "In summary, the `break`, `continue`, and `pass` statements are control flow tools that provide more flexibility in how loops execute in Python. `break` is used to exit a loop, `continue` is used to skip certain iterations, and `pass` is used as a syntactic placeholder for future code. Understanding how to use these statements allows for more precise control over your loops' behavior.\n"
      ],
      "metadata": {
        "id": "Qr4RCrIo5DXZ"
      }
    },
    {
      "cell_type": "code",
      "source": [
        "# break\n",
        "for i in range(1, 10):  #1st iteration==> i=1  2nd iteration==> i=2  3rd iteration==> i=3  4th iteration==>i=4  5th iteration==>i=5\n",
        "    if i == 5:  #1st ityeration ==> 1==5 2nd iteration==> 2==5  3rd iteration==> 3==5  4th iteration==> 4==5 5th iteration==> 5==5=True\n",
        "        break\n",
        "    print(i)  # This will print numbers from 1 to 4"
      ],
      "metadata": {
        "colab": {
          "base_uri": "https://localhost:8080/"
        },
        "id": "B_ao4A6VnCSC",
        "outputId": "3b4bcea7-6a9b-4dd2-e4fa-28d995d6df2c"
      },
      "execution_count": null,
      "outputs": [
        {
          "output_type": "stream",
          "name": "stdout",
          "text": [
            "1\n",
            "2\n",
            "3\n",
            "4\n"
          ]
        }
      ]
    },
    {
      "cell_type": "markdown",
      "source": [
        "#### Explanation of the for Loop with a break Statement\n",
        "\n",
        "This code snippet demonstrates how to use a `for` loop in combination with a `break` statement to control the loop's execution. The loop is designed to iterate over a range of numbers and print each number, but it stops prematurely when a certain condition is met (in this case, when `i` equals `5`).\n",
        "\n",
        "1. **Understanding the Range in the Loop**:\n",
        "   - `for i in range(1, 10)`: The loop starts with `i` at `1` and will continue up to, but not including, `10`. The range generates numbers `1, 2, 3, ..., 9`.\n",
        "\n",
        "2. **Starting the for Loop**:\n",
        "   - The loop iterates over each number in the sequence. The variable `i` takes on each value in the range one by one.\n",
        "\n",
        "3. **Iteration Breakdown with Conditional Check**:\n",
        "   - **1st Iteration**: `i` is `1`. The condition `1 == 5` is `False`, so the `break` statement is not executed. `1` is printed.\n",
        "   - **2nd Iteration**: `i` is `2`. The condition `2 == 5` is `False`, so the `break` statement is not executed. `2` is printed.\n",
        "   - **3rd Iteration**: `i` is `3`. The condition `3 == 5` is `False`, so the `break` statement is not executed. `3` is printed.\n",
        "   - **4th Iteration**: `i` is `4`. The condition `4 == 5` is `False`, so the `break` statement is not executed. `4` is printed.\n",
        "   - **5th Iteration**: `i` is `5`. The condition `5 == 5` is `True`, triggering the `break` statement. The loop is exited, and `5` is not printed.\n",
        "\n",
        "4. **Using the break Statement**:\n",
        "   - Inside the loop, we have a conditional statement `if i == 5:`. If this condition is `True`, the `break` statement is executed, and the loop terminates immediately.\n",
        "   - The `break` statement is used here to stop the loop before printing `5`, as the condition becomes `True` on the 5th iteration.\n",
        "\n",
        "5. **Conclusion of the Loop**:\n",
        "   - The loop prints numbers from `1` to `4`. When `i` becomes `5`, the condition `i == 5` is met, and the loop exits due to the `break` statement before `5` can be printed.\n",
        "   - This demonstrates the use of the `break` statement to provide immediate exit from a loop when a specific condition is met.\n",
        "\n",
        "In summary, this code snippet effectively illustrates the use of a `for` loop with a `break` statement to control the loop's execution. The loop provides a structured way to perform actions on a sequence of numbers, and the `break` statement offers a mechanism to exit the loop based on a condition, ensuring that the loop does not run beyond the desired point.\n"
      ],
      "metadata": {
        "id": "Jz11q7ab5kfE"
      }
    },
    {
      "cell_type": "code",
      "source": [
        "# continue\n",
        "for i in range(1, 10):\n",
        "    if i % 2 == 0:\n",
        "        i= i+1\n",
        "        continue\n",
        "    print(i)  # This will print odd numbers"
      ],
      "metadata": {
        "colab": {
          "base_uri": "https://localhost:8080/"
        },
        "id": "CW_nZnd1n85B",
        "outputId": "4d68c047-deb0-47d4-e947-d712fcf05c58"
      },
      "execution_count": null,
      "outputs": [
        {
          "output_type": "stream",
          "name": "stdout",
          "text": [
            "1\n",
            "3\n",
            "5\n",
            "7\n",
            "9\n"
          ]
        }
      ]
    },
    {
      "cell_type": "markdown",
      "source": [
        "#### Explanation of the for Loop with a continue Statement\n",
        "\n",
        "This code snippet demonstrates the use of a `for` loop in combination with a `continue` statement to selectively print odd numbers from a range of numbers. The `continue` statement is used to skip the rest of the loop's code block for certain iterations, specifically those where `i` is an even number.\n",
        "\n",
        "1. **Understanding the Range in the Loop**:\n",
        "   - `for i in range(1, 10)`: The loop iterates over each number in the sequence starting from `1` to `9`. The range function generates the numbers `1, 2, 3, ..., 9`.\n",
        "\n",
        "2. **Starting the for Loop**:\n",
        "   - The variable `i` takes on each value in the range, one by one, during each iteration of the loop.\n",
        "\n",
        "3. **Iteration Breakdown with Conditional Check**:\n",
        "   - The loop checks if `i` is an even number using the condition `if i % 2 == 0:`. The modulus operator `%` returns the remainder of `i` divided by `2`, so the condition is `True` for even numbers.\n",
        "   - If `i` is even, the line `i = i + 1` is executed, but this does not affect the loop's sequence as `i` is reassigned in each iteration by the `for` loop.\n",
        "   - The `continue` statement is then executed, which causes the loop to skip the rest of the code block (the `print` statement) and move to the next iteration.\n",
        "\n",
        "4. **Using the continue Statement**:\n",
        "   - For even numbers, the `continue` statement prevents the execution of `print(i)`, effectively skipping even numbers.\n",
        "   - For odd numbers, the `continue` statement is not executed, and the loop proceeds to the `print(i)` statement, which prints the odd number.\n",
        "\n",
        "5. **Conclusion of the Loop**:\n",
        "   - The loop prints odd numbers from `1` to `9`. Even numbers are skipped due to the `continue` statement, which interrupts the loop's execution for those numbers.\n",
        "   - This results in the output of odd numbers: `1, 3, 5, 7, 9`.\n",
        "\n",
        "In summary, this code snippet effectively demonstrates how to use a `for` loop with a `continue` statement to filter out certain values (in this case, even numbers) and perform an action (printing) only on other values (odd numbers). The `continue` statement provides a way to alter the flow of a loop, skipping certain iterations based on a condition.\n"
      ],
      "metadata": {
        "id": "_hYV3zp35wHx"
      }
    },
    {
      "cell_type": "code",
      "source": [
        "# pass\n",
        "for i in range(1, 10):\n",
        "    if i % 2 == 0:\n",
        "        pass  # You can put some code here later\n",
        "    else:\n",
        "        print(i)  # This will print odd numbers"
      ],
      "metadata": {
        "colab": {
          "base_uri": "https://localhost:8080/"
        },
        "id": "i3NVcpzGonB6",
        "outputId": "ce979b63-1360-47ca-bd3f-0dfdffdb1df4"
      },
      "execution_count": null,
      "outputs": [
        {
          "output_type": "stream",
          "name": "stdout",
          "text": [
            "1\n",
            "3\n",
            "5\n",
            "7\n",
            "9\n"
          ]
        }
      ]
    },
    {
      "cell_type": "markdown",
      "source": [
        "#### Explanation of the for Loop with a pass Statement\n",
        "\n",
        "This code snippet demonstrates how to use a `for` loop in combination with a `pass` statement to iterate over a range of numbers and selectively print odd numbers. The `pass` statement is used as a placeholder for future code, especially where no action is required.\n",
        "\n",
        "1. **Understanding the Range in the Loop**:\n",
        "   - `for i in range(1, 10)`: The loop iterates over each number in the sequence starting from `1` to `9`. The range function generates the numbers `1, 2, 3, ..., 9`.\n",
        "\n",
        "2. **Starting the for Loop**:\n",
        "   - The variable `i` takes on each value in the range, one by one, during each iteration of the loop.\n",
        "\n",
        "3. **Iteration Breakdown with Conditional Check**:\n",
        "   - Inside the loop, we check if `i` is an even number using the condition `if i % 2 == 0:`.\n",
        "   - The modulus operator `%` returns the remainder of `i` divided by `2`. For even numbers, this remainder is `0`, making the condition `True`.\n",
        "\n",
        "4. **Using the pass Statement**:\n",
        "   - When `i` is an even number, the `pass` statement is executed. The `pass` statement does nothing and is generally used as a placeholder, indicating where code can be added in the future. In this case, it's used where no specific action is required for even numbers.\n",
        "   - The execution then continues to the next iteration of the loop without executing any additional code for even numbers.\n",
        "\n",
        "5. **Printing Odd Numbers**:\n",
        "   - The `else` block contains the statement `print(i)`, which is executed when `i` is not an even number (i.e., when `i` is an odd number).\n",
        "   - As a result, the loop prints odd numbers (`1`, `3`, `5`, `7`, `9`), as the `print` statement is executed only for iterations where `i` is odd.\n",
        "\n",
        "6. **Conclusion of the Loop**:\n",
        "   - The loop completes its execution after iterating over all numbers from `1` to `9`. Due to the `pass` statement, no specific action is taken for even numbers, while odd numbers are printed.\n",
        "   - This example demonstrates how the `pass` statement can be used as a placeholder in a loop, allowing the loop's structure to be maintained even when no action is needed for certain conditions.\n",
        "\n",
        "In summary, this code snippet effectively illustrates the use of a `for` loop with the `pass` statement to control the loop's execution flow. While the `pass` statement itself does not perform any operation, it provides a syntactic way to represent no action in a code block, making the loop's structure clear and ready for future additions.\n"
      ],
      "metadata": {
        "id": "1iHE9Low6Ctk"
      }
    }
  ],
  "metadata": {
    "colab": {
      "provenance": []
    },
    "kernelspec": {
      "display_name": "Python 3",
      "name": "python3"
    },
    "language_info": {
      "name": "python"
    }
  },
  "nbformat": 4,
  "nbformat_minor": 0
}